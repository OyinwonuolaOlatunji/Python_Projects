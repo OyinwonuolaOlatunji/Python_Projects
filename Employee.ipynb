{
 "cells": [
  {
   "cell_type": "markdown",
   "id": "25a4e086-422d-44c7-a834-25c578699448",
   "metadata": {},
   "source": [
    "## This is an employee database of an organization with various departments"
   ]
  },
  {
   "cell_type": "code",
   "execution_count": 5,
   "id": "ff02f8e7-9232-4a81-a0ad-034d0cd5cc89",
   "metadata": {},
   "outputs": [],
   "source": [
    "import pandas as pd\n",
    "import matplotlib.pyplot as plt\n",
    "import seaborn as sns"
   ]
  },
  {
   "cell_type": "code",
   "execution_count": 6,
   "id": "c4f31055-51cf-4957-992e-2383ab5cb207",
   "metadata": {},
   "outputs": [],
   "source": [
    "df = pd.read_csv('employee.csv')"
   ]
  },
  {
   "cell_type": "code",
   "execution_count": 72,
   "id": "242b0334-69e6-42cf-a355-fc39141c0c27",
   "metadata": {},
   "outputs": [
    {
     "data": {
      "text/html": [
       "<div>\n",
       "<style scoped>\n",
       "    .dataframe tbody tr th:only-of-type {\n",
       "        vertical-align: middle;\n",
       "    }\n",
       "\n",
       "    .dataframe tbody tr th {\n",
       "        vertical-align: top;\n",
       "    }\n",
       "\n",
       "    .dataframe thead th {\n",
       "        text-align: right;\n",
       "    }\n",
       "</style>\n",
       "<table border=\"1\" class=\"dataframe\">\n",
       "  <thead>\n",
       "    <tr style=\"text-align: right;\">\n",
       "      <th></th>\n",
       "      <th>UNIQUE_ID</th>\n",
       "      <th>POSITION_TITLE</th>\n",
       "      <th>DEPARTMENT</th>\n",
       "      <th>BASE_SALARY</th>\n",
       "      <th>RACE</th>\n",
       "      <th>EMPLOYMENT_TYPE</th>\n",
       "      <th>GENDER</th>\n",
       "      <th>EMPLOYMENT_STATUS</th>\n",
       "      <th>HIRE_DATE</th>\n",
       "      <th>JOB_DATE</th>\n",
       "      <th>Year</th>\n",
       "      <th>Year_2</th>\n",
       "      <th>YEAR_1</th>\n",
       "      <th>YEAR_2</th>\n",
       "      <th>EMPLOYMENT_TENURE</th>\n",
       "    </tr>\n",
       "  </thead>\n",
       "  <tbody>\n",
       "    <tr>\n",
       "      <th>0</th>\n",
       "      <td>0</td>\n",
       "      <td>ASSISTANT DIRECTOR (EX LVL)</td>\n",
       "      <td>Municipal Courts Department</td>\n",
       "      <td>121862.0</td>\n",
       "      <td>Hispanic/Latino</td>\n",
       "      <td>Full Time</td>\n",
       "      <td>Female</td>\n",
       "      <td>Active</td>\n",
       "      <td>2006-06-12</td>\n",
       "      <td>2012-10-13</td>\n",
       "      <td>2006</td>\n",
       "      <td>2012.0</td>\n",
       "      <td>2006</td>\n",
       "      <td>2012.0</td>\n",
       "      <td>6.0</td>\n",
       "    </tr>\n",
       "    <tr>\n",
       "      <th>1</th>\n",
       "      <td>1</td>\n",
       "      <td>LIBRARY ASSISTANT</td>\n",
       "      <td>Library</td>\n",
       "      <td>26125.0</td>\n",
       "      <td>Hispanic/Latino</td>\n",
       "      <td>Full Time</td>\n",
       "      <td>Female</td>\n",
       "      <td>Active</td>\n",
       "      <td>2000-07-19</td>\n",
       "      <td>2010-09-18</td>\n",
       "      <td>2000</td>\n",
       "      <td>2010.0</td>\n",
       "      <td>2000</td>\n",
       "      <td>2010.0</td>\n",
       "      <td>10.0</td>\n",
       "    </tr>\n",
       "    <tr>\n",
       "      <th>2</th>\n",
       "      <td>2</td>\n",
       "      <td>POLICE OFFICER</td>\n",
       "      <td>Houston Police Department-HPD</td>\n",
       "      <td>45279.0</td>\n",
       "      <td>White</td>\n",
       "      <td>Full Time</td>\n",
       "      <td>Male</td>\n",
       "      <td>Active</td>\n",
       "      <td>2015-02-03</td>\n",
       "      <td>2015-02-03</td>\n",
       "      <td>2015</td>\n",
       "      <td>2015.0</td>\n",
       "      <td>2015</td>\n",
       "      <td>2015.0</td>\n",
       "      <td>0.0</td>\n",
       "    </tr>\n",
       "    <tr>\n",
       "      <th>3</th>\n",
       "      <td>3</td>\n",
       "      <td>ENGINEER/OPERATOR</td>\n",
       "      <td>Houston Fire Department (HFD)</td>\n",
       "      <td>63166.0</td>\n",
       "      <td>White</td>\n",
       "      <td>Full Time</td>\n",
       "      <td>Male</td>\n",
       "      <td>Active</td>\n",
       "      <td>1982-02-08</td>\n",
       "      <td>1991-05-25</td>\n",
       "      <td>1982</td>\n",
       "      <td>1991.0</td>\n",
       "      <td>1982</td>\n",
       "      <td>1991.0</td>\n",
       "      <td>9.0</td>\n",
       "    </tr>\n",
       "    <tr>\n",
       "      <th>4</th>\n",
       "      <td>4</td>\n",
       "      <td>ELECTRICIAN</td>\n",
       "      <td>General Services Department</td>\n",
       "      <td>56347.0</td>\n",
       "      <td>White</td>\n",
       "      <td>Full Time</td>\n",
       "      <td>Male</td>\n",
       "      <td>Active</td>\n",
       "      <td>1989-06-19</td>\n",
       "      <td>1994-10-22</td>\n",
       "      <td>1989</td>\n",
       "      <td>1994.0</td>\n",
       "      <td>1989</td>\n",
       "      <td>1994.0</td>\n",
       "      <td>5.0</td>\n",
       "    </tr>\n",
       "  </tbody>\n",
       "</table>\n",
       "</div>"
      ],
      "text/plain": [
       "   UNIQUE_ID               POSITION_TITLE                     DEPARTMENT  \\\n",
       "0          0  ASSISTANT DIRECTOR (EX LVL)    Municipal Courts Department   \n",
       "1          1            LIBRARY ASSISTANT                        Library   \n",
       "2          2               POLICE OFFICER  Houston Police Department-HPD   \n",
       "3          3            ENGINEER/OPERATOR  Houston Fire Department (HFD)   \n",
       "4          4                  ELECTRICIAN    General Services Department   \n",
       "\n",
       "   BASE_SALARY             RACE EMPLOYMENT_TYPE  GENDER EMPLOYMENT_STATUS  \\\n",
       "0     121862.0  Hispanic/Latino       Full Time  Female            Active   \n",
       "1      26125.0  Hispanic/Latino       Full Time  Female            Active   \n",
       "2      45279.0            White       Full Time    Male            Active   \n",
       "3      63166.0            White       Full Time    Male            Active   \n",
       "4      56347.0            White       Full Time    Male            Active   \n",
       "\n",
       "   HIRE_DATE   JOB_DATE  Year  Year_2  YEAR_1  YEAR_2  EMPLOYMENT_TENURE  \n",
       "0 2006-06-12 2012-10-13  2006  2012.0    2006  2012.0                6.0  \n",
       "1 2000-07-19 2010-09-18  2000  2010.0    2000  2010.0               10.0  \n",
       "2 2015-02-03 2015-02-03  2015  2015.0    2015  2015.0                0.0  \n",
       "3 1982-02-08 1991-05-25  1982  1991.0    1982  1991.0                9.0  \n",
       "4 1989-06-19 1994-10-22  1989  1994.0    1989  1994.0                5.0  "
      ]
     },
     "execution_count": 72,
     "metadata": {},
     "output_type": "execute_result"
    }
   ],
   "source": [
    "#To begin, let's show the first few rows to get things started\n",
    "df.head()"
   ]
  },
  {
   "cell_type": "markdown",
   "id": "86681040-898d-4a65-9c0f-61d2d0ca085f",
   "metadata": {},
   "source": []
  },
  {
   "cell_type": "code",
   "execution_count": 8,
   "id": "f32a5e51-769f-4c51-bc6b-51234a7b466d",
   "metadata": {},
   "outputs": [
    {
     "data": {
      "text/html": [
       "<div>\n",
       "<style scoped>\n",
       "    .dataframe tbody tr th:only-of-type {\n",
       "        vertical-align: middle;\n",
       "    }\n",
       "\n",
       "    .dataframe tbody tr th {\n",
       "        vertical-align: top;\n",
       "    }\n",
       "\n",
       "    .dataframe thead th {\n",
       "        text-align: right;\n",
       "    }\n",
       "</style>\n",
       "<table border=\"1\" class=\"dataframe\">\n",
       "  <thead>\n",
       "    <tr style=\"text-align: right;\">\n",
       "      <th></th>\n",
       "      <th>UNIQUE_ID</th>\n",
       "      <th>POSITION_TITLE</th>\n",
       "      <th>DEPARTMENT</th>\n",
       "      <th>BASE_SALARY</th>\n",
       "      <th>RACE</th>\n",
       "      <th>EMPLOYMENT_TYPE</th>\n",
       "      <th>GENDER</th>\n",
       "      <th>EMPLOYMENT_STATUS</th>\n",
       "      <th>HIRE_DATE</th>\n",
       "      <th>JOB_DATE</th>\n",
       "    </tr>\n",
       "  </thead>\n",
       "  <tbody>\n",
       "    <tr>\n",
       "      <th>1995</th>\n",
       "      <td>1995</td>\n",
       "      <td>POLICE OFFICER</td>\n",
       "      <td>Houston Police Department-HPD</td>\n",
       "      <td>43443.0</td>\n",
       "      <td>White</td>\n",
       "      <td>Full Time</td>\n",
       "      <td>Male</td>\n",
       "      <td>Active</td>\n",
       "      <td>09/06/2014</td>\n",
       "      <td>09/06/2015</td>\n",
       "    </tr>\n",
       "    <tr>\n",
       "      <th>1996</th>\n",
       "      <td>1996</td>\n",
       "      <td>COMMUNICATIONS CAPTAIN</td>\n",
       "      <td>Houston Fire Department (HFD)</td>\n",
       "      <td>66523.0</td>\n",
       "      <td>Black or African American</td>\n",
       "      <td>Full Time</td>\n",
       "      <td>Male</td>\n",
       "      <td>Active</td>\n",
       "      <td>02/09/2003</td>\n",
       "      <td>06/10/2013</td>\n",
       "    </tr>\n",
       "    <tr>\n",
       "      <th>1997</th>\n",
       "      <td>1997</td>\n",
       "      <td>POLICE OFFICER</td>\n",
       "      <td>Houston Police Department-HPD</td>\n",
       "      <td>43443.0</td>\n",
       "      <td>White</td>\n",
       "      <td>Full Time</td>\n",
       "      <td>Male</td>\n",
       "      <td>Active</td>\n",
       "      <td>13/10/2014</td>\n",
       "      <td>13/10/2015</td>\n",
       "    </tr>\n",
       "    <tr>\n",
       "      <th>1998</th>\n",
       "      <td>1998</td>\n",
       "      <td>POLICE OFFICER</td>\n",
       "      <td>Houston Police Department-HPD</td>\n",
       "      <td>55461.0</td>\n",
       "      <td>Asian/Pacific Islander</td>\n",
       "      <td>Full Time</td>\n",
       "      <td>Male</td>\n",
       "      <td>Active</td>\n",
       "      <td>20/01/2009</td>\n",
       "      <td>02/07/2011</td>\n",
       "    </tr>\n",
       "    <tr>\n",
       "      <th>1999</th>\n",
       "      <td>1999</td>\n",
       "      <td>FIRE FIGHTER</td>\n",
       "      <td>Houston Fire Department (HFD)</td>\n",
       "      <td>51194.0</td>\n",
       "      <td>Hispanic/Latino</td>\n",
       "      <td>Full Time</td>\n",
       "      <td>Male</td>\n",
       "      <td>Active</td>\n",
       "      <td>12/01/2009</td>\n",
       "      <td>12/07/2010</td>\n",
       "    </tr>\n",
       "  </tbody>\n",
       "</table>\n",
       "</div>"
      ],
      "text/plain": [
       "      UNIQUE_ID          POSITION_TITLE                     DEPARTMENT  \\\n",
       "1995       1995          POLICE OFFICER  Houston Police Department-HPD   \n",
       "1996       1996  COMMUNICATIONS CAPTAIN  Houston Fire Department (HFD)   \n",
       "1997       1997          POLICE OFFICER  Houston Police Department-HPD   \n",
       "1998       1998          POLICE OFFICER  Houston Police Department-HPD   \n",
       "1999       1999            FIRE FIGHTER  Houston Fire Department (HFD)   \n",
       "\n",
       "      BASE_SALARY                       RACE EMPLOYMENT_TYPE GENDER  \\\n",
       "1995      43443.0                      White       Full Time   Male   \n",
       "1996      66523.0  Black or African American       Full Time   Male   \n",
       "1997      43443.0                      White       Full Time   Male   \n",
       "1998      55461.0     Asian/Pacific Islander       Full Time   Male   \n",
       "1999      51194.0            Hispanic/Latino       Full Time   Male   \n",
       "\n",
       "     EMPLOYMENT_STATUS   HIRE_DATE    JOB_DATE  \n",
       "1995            Active  09/06/2014  09/06/2015  \n",
       "1996            Active  02/09/2003  06/10/2013  \n",
       "1997            Active  13/10/2014  13/10/2015  \n",
       "1998            Active  20/01/2009  02/07/2011  \n",
       "1999            Active  12/01/2009  12/07/2010  "
      ]
     },
     "execution_count": 8,
     "metadata": {},
     "output_type": "execute_result"
    }
   ],
   "source": [
    "#let's show the last 5 in the row\n",
    "df.tail()"
   ]
  },
  {
   "cell_type": "markdown",
   "id": "c1f30c1a-e642-4ec9-98ef-fabd52aaccab",
   "metadata": {},
   "source": [
    "#Now that the dataset has been successfully loaded, let's perform some initial Exploratory Data Analysis to understand the distribution of trends in the Employees dataset beginning by checking for missing values, duplicates and then proceed to analyze."
   ]
  },
  {
   "cell_type": "code",
   "execution_count": 9,
   "id": "9baba157-4d67-437e-bbe4-373ef78045da",
   "metadata": {},
   "outputs": [
    {
     "data": {
      "text/plain": [
       "0"
      ]
     },
     "execution_count": 9,
     "metadata": {},
     "output_type": "execute_result"
    }
   ],
   "source": [
    "df.duplicated().sum()"
   ]
  },
  {
   "cell_type": "markdown",
   "id": "58a74098-dba8-44e4-9487-44cbbd77dcdc",
   "metadata": {},
   "source": []
  },
  {
   "cell_type": "code",
   "execution_count": 10,
   "id": "5acf31cc-1b26-4187-adba-8bd72c4d1ef9",
   "metadata": {},
   "outputs": [
    {
     "data": {
      "text/plain": [
       "UNIQUE_ID              0\n",
       "POSITION_TITLE         0\n",
       "DEPARTMENT             0\n",
       "BASE_SALARY          114\n",
       "RACE                  35\n",
       "EMPLOYMENT_TYPE        0\n",
       "GENDER                 0\n",
       "EMPLOYMENT_STATUS      0\n",
       "HIRE_DATE              0\n",
       "JOB_DATE               3\n",
       "dtype: int64"
      ]
     },
     "execution_count": 10,
     "metadata": {},
     "output_type": "execute_result"
    }
   ],
   "source": [
    "#Now that we're sure there's no duplicate, we are going to chech if there's any missing value\n",
    "\n",
    "df.isna().sum()       "
   ]
  },
  {
   "cell_type": "code",
   "execution_count": 11,
   "id": "91d674f0-b70a-4a6d-b9a8-d00391019d30",
   "metadata": {},
   "outputs": [
    {
     "name": "stdout",
     "output_type": "stream",
     "text": [
      "<class 'pandas.core.frame.DataFrame'>\n",
      "RangeIndex: 2000 entries, 0 to 1999\n",
      "Data columns (total 10 columns):\n",
      " #   Column             Non-Null Count  Dtype  \n",
      "---  ------             --------------  -----  \n",
      " 0   UNIQUE_ID          2000 non-null   int64  \n",
      " 1   POSITION_TITLE     2000 non-null   object \n",
      " 2   DEPARTMENT         2000 non-null   object \n",
      " 3   BASE_SALARY        1886 non-null   float64\n",
      " 4   RACE               1965 non-null   object \n",
      " 5   EMPLOYMENT_TYPE    2000 non-null   object \n",
      " 6   GENDER             2000 non-null   object \n",
      " 7   EMPLOYMENT_STATUS  2000 non-null   object \n",
      " 8   HIRE_DATE          2000 non-null   object \n",
      " 9   JOB_DATE           1997 non-null   object \n",
      "dtypes: float64(1), int64(1), object(8)\n",
      "memory usage: 156.4+ KB\n"
     ]
    }
   ],
   "source": [
    "df.info()"
   ]
  },
  {
   "cell_type": "code",
   "execution_count": 12,
   "id": "4574f546-944d-42f9-8c3f-d845e4dcab85",
   "metadata": {
    "scrolled": true
   },
   "outputs": [
    {
     "data": {
      "text/html": [
       "<div>\n",
       "<style scoped>\n",
       "    .dataframe tbody tr th:only-of-type {\n",
       "        vertical-align: middle;\n",
       "    }\n",
       "\n",
       "    .dataframe tbody tr th {\n",
       "        vertical-align: top;\n",
       "    }\n",
       "\n",
       "    .dataframe thead th {\n",
       "        text-align: right;\n",
       "    }\n",
       "</style>\n",
       "<table border=\"1\" class=\"dataframe\">\n",
       "  <thead>\n",
       "    <tr style=\"text-align: right;\">\n",
       "      <th></th>\n",
       "      <th>UNIQUE_ID</th>\n",
       "      <th>BASE_SALARY</th>\n",
       "    </tr>\n",
       "  </thead>\n",
       "  <tbody>\n",
       "    <tr>\n",
       "      <th>count</th>\n",
       "      <td>2000.000000</td>\n",
       "      <td>1886.000000</td>\n",
       "    </tr>\n",
       "    <tr>\n",
       "      <th>mean</th>\n",
       "      <td>999.500000</td>\n",
       "      <td>55767.931601</td>\n",
       "    </tr>\n",
       "    <tr>\n",
       "      <th>std</th>\n",
       "      <td>577.494589</td>\n",
       "      <td>21693.706679</td>\n",
       "    </tr>\n",
       "    <tr>\n",
       "      <th>min</th>\n",
       "      <td>0.000000</td>\n",
       "      <td>24960.000000</td>\n",
       "    </tr>\n",
       "    <tr>\n",
       "      <th>25%</th>\n",
       "      <td>499.750000</td>\n",
       "      <td>40170.000000</td>\n",
       "    </tr>\n",
       "    <tr>\n",
       "      <th>50%</th>\n",
       "      <td>999.500000</td>\n",
       "      <td>54461.000000</td>\n",
       "    </tr>\n",
       "    <tr>\n",
       "      <th>75%</th>\n",
       "      <td>1499.250000</td>\n",
       "      <td>66614.000000</td>\n",
       "    </tr>\n",
       "    <tr>\n",
       "      <th>max</th>\n",
       "      <td>1999.000000</td>\n",
       "      <td>275000.000000</td>\n",
       "    </tr>\n",
       "  </tbody>\n",
       "</table>\n",
       "</div>"
      ],
      "text/plain": [
       "         UNIQUE_ID    BASE_SALARY\n",
       "count  2000.000000    1886.000000\n",
       "mean    999.500000   55767.931601\n",
       "std     577.494589   21693.706679\n",
       "min       0.000000   24960.000000\n",
       "25%     499.750000   40170.000000\n",
       "50%     999.500000   54461.000000\n",
       "75%    1499.250000   66614.000000\n",
       "max    1999.000000  275000.000000"
      ]
     },
     "execution_count": 12,
     "metadata": {},
     "output_type": "execute_result"
    }
   ],
   "source": [
    "df.describe()"
   ]
  },
  {
   "cell_type": "code",
   "execution_count": 13,
   "id": "46d8c1b2-7f2f-4191-8227-dc8cf4eebd87",
   "metadata": {},
   "outputs": [],
   "source": [
    "#let's keep a duplicate of the original data for future purposes\n",
    "\n",
    "df_copy= df.copy()"
   ]
  },
  {
   "cell_type": "code",
   "execution_count": null,
   "id": "52bc3e94-9664-4e60-a19c-8c871a31b1ae",
   "metadata": {},
   "outputs": [],
   "source": []
  },
  {
   "cell_type": "code",
   "execution_count": 14,
   "id": "9e7e5af4-c723-4a41-9659-2f595ca31fd3",
   "metadata": {},
   "outputs": [
    {
     "data": {
      "text/plain": [
       "RACE\n",
       "American Indian or Alaskan Native     11\n",
       "Asian/Pacific Islander               107\n",
       "Black or African American            700\n",
       "Hispanic/Latino                      480\n",
       "Others                                 2\n",
       "White                                665\n",
       "Name: count, dtype: int64"
      ]
     },
     "execution_count": 14,
     "metadata": {},
     "output_type": "execute_result"
    }
   ],
   "source": [
    "#Distribution by Race/Ethnicity \n",
    "#Racial composition of the workforce\n",
    "\n",
    "df['RACE'].value_counts().sort_index()"
   ]
  },
  {
   "cell_type": "code",
   "execution_count": 15,
   "id": "96726252-857c-47c4-8763-04d4e2740731",
   "metadata": {},
   "outputs": [],
   "source": [
    "#check for the race percentage of the employees that makes up the organization\n",
    "\n",
    "racial_composition= df['RACE'].value_counts(normalize= True) * 100"
   ]
  },
  {
   "cell_type": "markdown",
   "id": "f514a27d-97aa-4334-8957-54ba9bd090e9",
   "metadata": {},
   "source": []
  },
  {
   "cell_type": "code",
   "execution_count": 16,
   "id": "08631049-ae5f-4331-8664-5e08a1185103",
   "metadata": {},
   "outputs": [
    {
     "data": {
      "text/plain": [
       "RACE\n",
       "Black or African American            35.623410\n",
       "White                                33.842239\n",
       "Hispanic/Latino                      24.427481\n",
       "Asian/Pacific Islander                5.445293\n",
       "American Indian or Alaskan Native     0.559796\n",
       "Others                                0.101781\n",
       "Name: proportion, dtype: float64"
      ]
     },
     "execution_count": 16,
     "metadata": {},
     "output_type": "execute_result"
    }
   ],
   "source": [
    "\n",
    "#Let's check if there are any significant disparities in the representation of different racial/ethnic groups across departments\n",
    "\n",
    "racial_composition"
   ]
  },
  {
   "cell_type": "markdown",
   "id": "963a017d-d4c7-47cc-aadb-93129c8cbe69",
   "metadata": {},
   "source": [
    "### Observation : There are obvious dispairities in the representation of different racial groups across departments\n"
   ]
  },
  {
   "cell_type": "code",
   "execution_count": 17,
   "id": "a6ac3a40-56d7-4a11-84c4-2c38d7a63289",
   "metadata": {},
   "outputs": [
    {
     "data": {
      "text/plain": [
       "<bound method Series.sort_values of DEPARTMENT\n",
       "Admn. & Regulatory Affairs         26\n",
       "City Controller's Office            5\n",
       "City Council                        9\n",
       "Convention and Entertainment        1\n",
       "Dept of Neighborhoods (DON)        17\n",
       "Finance                             9\n",
       "Fleet Management Department        34\n",
       "General Services Department        22\n",
       "Health & Human Services           108\n",
       "Housing and Community Devp.        22\n",
       "Houston Airport System (HAS)      103\n",
       "Houston Emergency Center (HEC)     22\n",
       "Houston Fire Department (HFD)     379\n",
       "Houston Information Tech Svcs       9\n",
       "Houston Police Department-HPD     633\n",
       "Human Resources Dept.              24\n",
       "Legal Department                   17\n",
       "Library                            34\n",
       "Mayor's Office                      5\n",
       "Municipal Courts Department        28\n",
       "Parks & Recreation                 69\n",
       "Planning & Development              7\n",
       "Public Works & Engineering-PWE    343\n",
       "Solid Waste Management             39\n",
       "Name: RACE, dtype: int64>"
      ]
     },
     "execution_count": 17,
     "metadata": {},
     "output_type": "execute_result"
    }
   ],
   "source": [
    "df.groupby('DEPARTMENT')['RACE'].count().sort_values\n"
   ]
  },
  {
   "cell_type": "code",
   "execution_count": null,
   "id": "a1ce9aab-b90d-4871-b45d-ea683a31d43e",
   "metadata": {},
   "outputs": [],
   "source": []
  },
  {
   "cell_type": "code",
   "execution_count": 18,
   "id": "ffe9a81f-29fc-4eed-884e-61eba3351379",
   "metadata": {},
   "outputs": [],
   "source": [
    "#Gender Representation within the organization\n",
    "\n",
    "gender_dist = df['GENDER'].value_counts()"
   ]
  },
  {
   "cell_type": "code",
   "execution_count": 19,
   "id": "3a533ce3-f619-4f93-87d6-0137a58779b2",
   "metadata": {},
   "outputs": [
    {
     "data": {
      "text/plain": [
       "GENDER\n",
       "Male      1397\n",
       "Female     603\n",
       "Name: count, dtype: int64"
      ]
     },
     "execution_count": 19,
     "metadata": {},
     "output_type": "execute_result"
    }
   ],
   "source": [
    "gender_dist"
   ]
  },
  {
   "cell_type": "markdown",
   "id": "4220aa13-efbc-4eac-8248-63f81b064ad1",
   "metadata": {},
   "source": []
  },
  {
   "cell_type": "code",
   "execution_count": 20,
   "id": "ac9447e5-751c-412c-89bd-6fb3edbc5209",
   "metadata": {},
   "outputs": [
    {
     "data": {
      "text/plain": [
       "<Figure size 600x400 with 0 Axes>"
      ]
     },
     "execution_count": 20,
     "metadata": {},
     "output_type": "execute_result"
    },
    {
     "data": {
      "image/png": "[encoded data removed]",
      "text/plain": [
       "<Figure size 640x480 with 1 Axes>"
      ]
     },
     "metadata": {},
     "output_type": "display_data"
    },
    {
     "data": {
      "text/plain": [
       "<Figure size 600x400 with 0 Axes>"
      ]
     },
     "metadata": {},
     "output_type": "display_data"
    }
   ],
   "source": [
    "#Let's find out if there are any gender imbalances in certain departments\n",
    "\n",
    "plt.title('Employees by Gender', fontsize = 10)\n",
    "df.groupby('GENDER')['UNIQUE_ID'].sum().plot(kind = 'pie')\n",
    "\n",
    "plt.figure(figsize = (6, 4)) \n"
   ]
  },
  {
   "cell_type": "markdown",
   "id": "158ac3ef-cf48-42cb-b331-db6eea161368",
   "metadata": {},
   "source": []
  },
  {
   "cell_type": "code",
   "execution_count": 21,
   "id": "1abfe29a-e4a9-4e87-ac7f-9161a8554b28",
   "metadata": {
    "scrolled": true
   },
   "outputs": [
    {
     "data": {
      "text/plain": [
       "DEPARTMENT                      GENDER\n",
       "Admn. & Regulatory Affairs      Female     22\n",
       "                                Male        7\n",
       "City Controller's Office        Female      4\n",
       "                                Male        1\n",
       "City Council                    Female      7\n",
       "                                Male        4\n",
       "Convention and Entertainment    Female      1\n",
       "Dept of Neighborhoods (DON)     Male        9\n",
       "                                Female      8\n",
       "Finance                         Male        6\n",
       "                                Female      4\n",
       "Fleet Management Department     Male       33\n",
       "                                Female      3\n",
       "General Services Department     Male       20\n",
       "                                Female      2\n",
       "Health & Human Services         Female     83\n",
       "                                Male       27\n",
       "Housing and Community Devp.     Female     16\n",
       "                                Male        6\n",
       "Houston Airport System (HAS)    Male       70\n",
       "                                Female     36\n",
       "Houston Emergency Center (HEC)  Female     17\n",
       "                                Male        6\n",
       "Houston Fire Department (HFD)   Male      363\n",
       "                                Female     21\n",
       "Houston Information Tech Svcs   Male        8\n",
       "                                Female      1\n",
       "Houston Police Department-HPD   Male      483\n",
       "                                Female    155\n",
       "Human Resources Dept.           Female     19\n",
       "                                Male        5\n",
       "Legal Department                Female      9\n",
       "                                Male        8\n",
       "Library                         Female     28\n",
       "                                Male        8\n",
       "Mayor's Office                  Female      3\n",
       "                                Male        2\n",
       "Municipal Courts Department     Female     21\n",
       "                                Male        7\n",
       "Parks & Recreation              Male       51\n",
       "                                Female     23\n",
       "Planning & Development          Male        4\n",
       "                                Female      3\n",
       "Public Works & Engineering-PWE  Male      235\n",
       "                                Female    108\n",
       "Solid Waste Management          Male       34\n",
       "                                Female      9\n",
       "Name: count, dtype: int64"
      ]
     },
     "execution_count": 21,
     "metadata": {},
     "output_type": "execute_result"
    }
   ],
   "source": [
    "#Employment Type Distribution\n",
    "\n",
    "df.groupby('DEPARTMENT')['GENDER'].value_counts()"
   ]
  },
  {
   "cell_type": "markdown",
   "id": "f14d43c1-23e7-494c-bcf6-6c2d7de675a1",
   "metadata": {},
   "source": [
    "#Let's find out the  proportion of employees that are full-time, part-time, or contract workers"
   ]
  },
  {
   "cell_type": "code",
   "execution_count": 22,
   "id": "dca70ec1-5aa5-4f33-8b64-5b23a130b574",
   "metadata": {},
   "outputs": [
    {
     "data": {
      "text/plain": [
       "EMPLOYMENT_TYPE\n",
       "Full Time            97.70\n",
       "Part Time             1.00\n",
       "Temporary             0.45\n",
       "HFD Deferred Term     0.45\n",
       "Part Time 30          0.40\n",
       "Name: proportion, dtype: float64"
      ]
     },
     "execution_count": 22,
     "metadata": {},
     "output_type": "execute_result"
    }
   ],
   "source": [
    "#check the employment type of the employees\n",
    "\n",
    "df['EMPLOYMENT_TYPE'].value_counts(normalize = True) * 100"
   ]
  },
  {
   "cell_type": "markdown",
   "id": "2290fbe0-cb96-431e-a4ff-4d2e599d6b8c",
   "metadata": {},
   "source": []
  },
  {
   "cell_type": "code",
   "execution_count": 54,
   "id": "10dfc80f-04d7-45b6-9339-b85170e77e6b",
   "metadata": {},
   "outputs": [],
   "source": [
    "#Observation : Full time makes the most part of the organization\n",
    "\n",
    "full_time = df[df['EMPLOYMENT_TYPE'] == 'Full Time']\n",
    "part_time = df[df['EMPLOYMENT_TYPE'] == 'Part Time']\n",
    "contract = df[df['EMPLOYMENT_TYPE'] == 'Temporary']"
   ]
  },
  {
   "cell_type": "code",
   "execution_count": 25,
   "id": "1ca35029-a737-45b6-91b5-f00798028c23",
   "metadata": {},
   "outputs": [],
   "source": []
  },
  {
   "cell_type": "code",
   "execution_count": 26,
   "id": "3fcc605a-b7ce-418b-a705-4bf6ba19ed50",
   "metadata": {},
   "outputs": [
    {
     "data": {
      "text/plain": [
       "EMPLOYMENT_TYPE    DEPARTMENT                    \n",
       "Full Time          Houston Police Department-HPD     638\n",
       "                   Houston Fire Department (HFD)     375\n",
       "                   Public Works & Engineering-PWE    341\n",
       "                   Houston Airport System (HAS)      106\n",
       "                   Health & Human Services           106\n",
       "                   Parks & Recreation                 55\n",
       "                   Solid Waste Management             43\n",
       "                   Fleet Management Department        36\n",
       "                   Library                            30\n",
       "                   Admn. & Regulatory Affairs         29\n",
       "                   Municipal Courts Department        26\n",
       "                   Human Resources Dept.              24\n",
       "                   Houston Emergency Center (HEC)     23\n",
       "                   General Services Department        22\n",
       "                   Housing and Community Devp.        20\n",
       "                   Dept of Neighborhoods (DON)        17\n",
       "                   Legal Department                   17\n",
       "                   Finance                            10\n",
       "                   Houston Information Tech Svcs       9\n",
       "                   City Council                        9\n",
       "                   Planning & Development              7\n",
       "                   City Controller's Office            5\n",
       "                   Mayor's Office                      5\n",
       "                   Convention and Entertainment        1\n",
       "HFD Deferred Term  Houston Fire Department (HFD)       9\n",
       "Part Time          Parks & Recreation                 10\n",
       "                   Library                             6\n",
       "                   Health & Human Services             2\n",
       "                   Municipal Courts Department         1\n",
       "                   Public Works & Engineering-PWE      1\n",
       "Part Time 30       City Council                        2\n",
       "                   Health & Human Services             2\n",
       "                   Housing and Community Devp.         2\n",
       "                   Municipal Courts Department         1\n",
       "                   Public Works & Engineering-PWE      1\n",
       "Temporary          Parks & Recreation                  9\n",
       "Name: count, dtype: int64"
      ]
     },
     "execution_count": 26,
     "metadata": {},
     "output_type": "execute_result"
    }
   ],
   "source": [
    "#Let's find out if there's a difference among employment types across departments\n",
    "\n",
    "df.groupby('EMPLOYMENT_TYPE')['DEPARTMENT'].value_counts()"
   ]
  },
  {
   "cell_type": "code",
   "execution_count": null,
   "id": "36803bb8-a3ec-4391-9aaf-b9d4fa206ec1",
   "metadata": {},
   "outputs": [],
   "source": []
  },
  {
   "cell_type": "markdown",
   "id": "b7cbe21e-e420-4bb7-b970-3c831125be5c",
   "metadata": {},
   "source": [
    "#Age distribution of employees within the organization\n",
    "\n",
    "#There are no age-related trends in job titles or salary levels"
   ]
  },
  {
   "cell_type": "code",
   "execution_count": null,
   "id": "38f67af1-2c4a-4f32-a94d-8f9b691aeee1",
   "metadata": {},
   "outputs": [],
   "source": []
  },
  {
   "cell_type": "code",
   "execution_count": 65,
   "id": "4718f8d8-1768-4d26-a8ef-a62228bbc7b1",
   "metadata": {},
   "outputs": [],
   "source": [
    "#Tenure Analysis\n",
    "##Let's find out the distribution of employee tenure (length of employment) within the organization?\n",
    "\n",
    "df['HIRE_DATE'] = pd.to_datetime(df['HIRE_DATE'],dayfirst = True)\n",
    "df['YEAR_1'] = df['HIRE_DATE'].dt.year\n",
    "\n",
    "df['JOB_DATE'] = pd.to_datetime(df['JOB_DATE'],dayfirst = True)\n",
    "df['YEAR_2'] = df['JOB_DATE'].dt.year\n",
    "\n",
    "df['EMPLOYMENT_TENURE'] = df['YEAR_2'] - df['YEAR_1']"
   ]
  },
  {
   "cell_type": "code",
   "execution_count": 59,
   "id": "4d4b0fe9-2990-4f74-bd96-8f9f688e73cc",
   "metadata": {},
   "outputs": [
    {
     "data": {
      "text/html": [
       "<div>\n",
       "<style scoped>\n",
       "    .dataframe tbody tr th:only-of-type {\n",
       "        vertical-align: middle;\n",
       "    }\n",
       "\n",
       "    .dataframe tbody tr th {\n",
       "        vertical-align: top;\n",
       "    }\n",
       "\n",
       "    .dataframe thead th {\n",
       "        text-align: right;\n",
       "    }\n",
       "</style>\n",
       "<table border=\"1\" class=\"dataframe\">\n",
       "  <thead>\n",
       "    <tr style=\"text-align: right;\">\n",
       "      <th></th>\n",
       "      <th>UNIQUE_ID</th>\n",
       "      <th>POSITION_TITLE</th>\n",
       "      <th>DEPARTMENT</th>\n",
       "      <th>BASE_SALARY</th>\n",
       "      <th>RACE</th>\n",
       "      <th>EMPLOYMENT_TYPE</th>\n",
       "      <th>GENDER</th>\n",
       "      <th>EMPLOYMENT_STATUS</th>\n",
       "      <th>HIRE_DATE</th>\n",
       "      <th>JOB_DATE</th>\n",
       "      <th>Year</th>\n",
       "      <th>Year_2</th>\n",
       "      <th>YEAR_1</th>\n",
       "      <th>YEAR_2</th>\n",
       "      <th>EMPLOYMENT_TENURE</th>\n",
       "    </tr>\n",
       "  </thead>\n",
       "  <tbody>\n",
       "    <tr>\n",
       "      <th>0</th>\n",
       "      <td>0</td>\n",
       "      <td>ASSISTANT DIRECTOR (EX LVL)</td>\n",
       "      <td>Municipal Courts Department</td>\n",
       "      <td>121862.0</td>\n",
       "      <td>Hispanic/Latino</td>\n",
       "      <td>Full Time</td>\n",
       "      <td>Female</td>\n",
       "      <td>Active</td>\n",
       "      <td>2006-06-12</td>\n",
       "      <td>2012-10-13</td>\n",
       "      <td>2006</td>\n",
       "      <td>2012.0</td>\n",
       "      <td>2006</td>\n",
       "      <td>2012.0</td>\n",
       "      <td>6.0</td>\n",
       "    </tr>\n",
       "    <tr>\n",
       "      <th>1</th>\n",
       "      <td>1</td>\n",
       "      <td>LIBRARY ASSISTANT</td>\n",
       "      <td>Library</td>\n",
       "      <td>26125.0</td>\n",
       "      <td>Hispanic/Latino</td>\n",
       "      <td>Full Time</td>\n",
       "      <td>Female</td>\n",
       "      <td>Active</td>\n",
       "      <td>2000-07-19</td>\n",
       "      <td>2010-09-18</td>\n",
       "      <td>2000</td>\n",
       "      <td>2010.0</td>\n",
       "      <td>2000</td>\n",
       "      <td>2010.0</td>\n",
       "      <td>10.0</td>\n",
       "    </tr>\n",
       "  </tbody>\n",
       "</table>\n",
       "</div>"
      ],
      "text/plain": [
       "   UNIQUE_ID               POSITION_TITLE                   DEPARTMENT  \\\n",
       "0          0  ASSISTANT DIRECTOR (EX LVL)  Municipal Courts Department   \n",
       "1          1            LIBRARY ASSISTANT                      Library   \n",
       "\n",
       "   BASE_SALARY             RACE EMPLOYMENT_TYPE  GENDER EMPLOYMENT_STATUS  \\\n",
       "0     121862.0  Hispanic/Latino       Full Time  Female            Active   \n",
       "1      26125.0  Hispanic/Latino       Full Time  Female            Active   \n",
       "\n",
       "   HIRE_DATE   JOB_DATE  Year  Year_2  YEAR_1  YEAR_2  EMPLOYMENT_TENURE  \n",
       "0 2006-06-12 2012-10-13  2006  2012.0    2006  2012.0                6.0  \n",
       "1 2000-07-19 2010-09-18  2000  2010.0    2000  2010.0               10.0  "
      ]
     },
     "execution_count": 59,
     "metadata": {},
     "output_type": "execute_result"
    }
   ],
   "source": [
    "df.head(2)"
   ]
  },
  {
   "cell_type": "code",
   "execution_count": 71,
   "id": "c8a54380-9dbd-46e9-b69f-f4a69eefd5a8",
   "metadata": {},
   "outputs": [
    {
     "data": {
      "text/plain": [
       "<bound method Series.sort_values of DEPARTMENT\n",
       "Admn. & Regulatory Affairs         28\n",
       "City Controller's Office            5\n",
       "City Council                       11\n",
       "Convention and Entertainment        1\n",
       "Dept of Neighborhoods (DON)        17\n",
       "Finance                            10\n",
       "Fleet Management Department        36\n",
       "General Services Department        22\n",
       "Health & Human Services           110\n",
       "Housing and Community Devp.        22\n",
       "Houston Airport System (HAS)      106\n",
       "Houston Emergency Center (HEC)     23\n",
       "Houston Fire Department (HFD)     384\n",
       "Houston Information Tech Svcs       9\n",
       "Houston Police Department-HPD     638\n",
       "Human Resources Dept.              24\n",
       "Legal Department                   17\n",
       "Library                            35\n",
       "Mayor's Office                      5\n",
       "Municipal Courts Department        28\n",
       "Parks & Recreation                 74\n",
       "Planning & Development              7\n",
       "Public Works & Engineering-PWE    343\n",
       "Solid Waste Management             42\n",
       "Name: EMPLOYMENT_TENURE, dtype: int64>"
      ]
     },
     "execution_count": 71,
     "metadata": {},
     "output_type": "execute_result"
    }
   ],
   "source": [
    "#Now let's check if there's differences in tenure between different demographic group or departments\n",
    "\n",
    "df.groupby('DEPARTMENT')['EMPLOYMENT_TENURE'].count().sort_values"
   ]
  },
  {
   "cell_type": "code",
   "execution_count": null,
   "id": "6d7e7602-f198-4927-a5f9-5129535e77ec",
   "metadata": {},
   "outputs": [],
   "source": []
  },
  {
   "cell_type": "code",
   "execution_count": 47,
   "id": "ed2c62c4-5376-4493-9f73-ba52eca119f3",
   "metadata": {},
   "outputs": [
    {
     "data": {
      "text/html": [
       "<div>\n",
       "<style scoped>\n",
       "    .dataframe tbody tr th:only-of-type {\n",
       "        vertical-align: middle;\n",
       "    }\n",
       "\n",
       "    .dataframe tbody tr th {\n",
       "        vertical-align: top;\n",
       "    }\n",
       "\n",
       "    .dataframe thead th {\n",
       "        text-align: right;\n",
       "    }\n",
       "</style>\n",
       "<table border=\"1\" class=\"dataframe\">\n",
       "  <thead>\n",
       "    <tr style=\"text-align: right;\">\n",
       "      <th></th>\n",
       "      <th>count</th>\n",
       "      <th>mean</th>\n",
       "      <th>std</th>\n",
       "      <th>min</th>\n",
       "      <th>25%</th>\n",
       "      <th>50%</th>\n",
       "      <th>75%</th>\n",
       "      <th>max</th>\n",
       "    </tr>\n",
       "    <tr>\n",
       "      <th>DEPARTMENT</th>\n",
       "      <th></th>\n",
       "      <th></th>\n",
       "      <th></th>\n",
       "      <th></th>\n",
       "      <th></th>\n",
       "      <th></th>\n",
       "      <th></th>\n",
       "      <th></th>\n",
       "    </tr>\n",
       "  </thead>\n",
       "  <tbody>\n",
       "    <tr>\n",
       "      <th>Admn. &amp; Regulatory Affairs</th>\n",
       "      <td>29.0</td>\n",
       "      <td>50890.551724</td>\n",
       "      <td>28918.748108</td>\n",
       "      <td>27581.0</td>\n",
       "      <td>33550.00</td>\n",
       "      <td>37710.0</td>\n",
       "      <td>57221.00</td>\n",
       "      <td>140416.0</td>\n",
       "    </tr>\n",
       "    <tr>\n",
       "      <th>City Controller's Office</th>\n",
       "      <td>5.0</td>\n",
       "      <td>55711.600000</td>\n",
       "      <td>8014.781176</td>\n",
       "      <td>42640.0</td>\n",
       "      <td>55536.00</td>\n",
       "      <td>57054.0</td>\n",
       "      <td>59077.00</td>\n",
       "      <td>64251.0</td>\n",
       "    </tr>\n",
       "    <tr>\n",
       "      <th>City Council</th>\n",
       "      <td>9.0</td>\n",
       "      <td>59089.222222</td>\n",
       "      <td>19937.971002</td>\n",
       "      <td>35837.0</td>\n",
       "      <td>45000.00</td>\n",
       "      <td>54000.0</td>\n",
       "      <td>62983.00</td>\n",
       "      <td>100000.0</td>\n",
       "    </tr>\n",
       "    <tr>\n",
       "      <th>Convention and Entertainment</th>\n",
       "      <td>1.0</td>\n",
       "      <td>38397.000000</td>\n",
       "      <td>NaN</td>\n",
       "      <td>38397.0</td>\n",
       "      <td>38397.00</td>\n",
       "      <td>38397.0</td>\n",
       "      <td>38397.00</td>\n",
       "      <td>38397.0</td>\n",
       "    </tr>\n",
       "    <tr>\n",
       "      <th>Dept of Neighborhoods (DON)</th>\n",
       "      <td>17.0</td>\n",
       "      <td>47092.882353</td>\n",
       "      <td>15775.399111</td>\n",
       "      <td>26125.0</td>\n",
       "      <td>38210.00</td>\n",
       "      <td>43742.0</td>\n",
       "      <td>52884.00</td>\n",
       "      <td>89221.0</td>\n",
       "    </tr>\n",
       "    <tr>\n",
       "      <th>Finance</th>\n",
       "      <td>10.0</td>\n",
       "      <td>79650.300000</td>\n",
       "      <td>15968.431601</td>\n",
       "      <td>46963.0</td>\n",
       "      <td>73415.00</td>\n",
       "      <td>80542.0</td>\n",
       "      <td>92863.75</td>\n",
       "      <td>96272.0</td>\n",
       "    </tr>\n",
       "    <tr>\n",
       "      <th>Fleet Management Department</th>\n",
       "      <td>36.0</td>\n",
       "      <td>43994.305556</td>\n",
       "      <td>17182.345048</td>\n",
       "      <td>27539.0</td>\n",
       "      <td>32364.50</td>\n",
       "      <td>44158.0</td>\n",
       "      <td>49378.25</td>\n",
       "      <td>125884.0</td>\n",
       "    </tr>\n",
       "    <tr>\n",
       "      <th>General Services Department</th>\n",
       "      <td>22.0</td>\n",
       "      <td>51295.818182</td>\n",
       "      <td>22496.379805</td>\n",
       "      <td>26125.0</td>\n",
       "      <td>35547.00</td>\n",
       "      <td>42473.5</td>\n",
       "      <td>72417.00</td>\n",
       "      <td>89194.0</td>\n",
       "    </tr>\n",
       "    <tr>\n",
       "      <th>Health &amp; Human Services</th>\n",
       "      <td>106.0</td>\n",
       "      <td>51305.933962</td>\n",
       "      <td>23026.516723</td>\n",
       "      <td>26125.0</td>\n",
       "      <td>34335.50</td>\n",
       "      <td>46717.0</td>\n",
       "      <td>59578.00</td>\n",
       "      <td>180416.0</td>\n",
       "    </tr>\n",
       "    <tr>\n",
       "      <th>Housing and Community Devp.</th>\n",
       "      <td>20.0</td>\n",
       "      <td>61387.700000</td>\n",
       "      <td>15696.609906</td>\n",
       "      <td>39666.0</td>\n",
       "      <td>52131.50</td>\n",
       "      <td>57284.5</td>\n",
       "      <td>67033.25</td>\n",
       "      <td>98536.0</td>\n",
       "    </tr>\n",
       "    <tr>\n",
       "      <th>Houston Airport System (HAS)</th>\n",
       "      <td>106.0</td>\n",
       "      <td>53956.066038</td>\n",
       "      <td>29984.586093</td>\n",
       "      <td>26125.0</td>\n",
       "      <td>33253.75</td>\n",
       "      <td>41953.5</td>\n",
       "      <td>68413.00</td>\n",
       "      <td>186192.0</td>\n",
       "    </tr>\n",
       "    <tr>\n",
       "      <th>Houston Emergency Center (HEC)</th>\n",
       "      <td>23.0</td>\n",
       "      <td>46415.739130</td>\n",
       "      <td>15879.471431</td>\n",
       "      <td>31200.0</td>\n",
       "      <td>33987.00</td>\n",
       "      <td>39104.0</td>\n",
       "      <td>56045.50</td>\n",
       "      <td>84456.0</td>\n",
       "    </tr>\n",
       "    <tr>\n",
       "      <th>Houston Fire Department (HFD)</th>\n",
       "      <td>370.0</td>\n",
       "      <td>59528.867568</td>\n",
       "      <td>16969.644435</td>\n",
       "      <td>28024.0</td>\n",
       "      <td>51194.00</td>\n",
       "      <td>61921.0</td>\n",
       "      <td>66523.00</td>\n",
       "      <td>210588.0</td>\n",
       "    </tr>\n",
       "    <tr>\n",
       "      <th>Houston Information Tech Svcs</th>\n",
       "      <td>9.0</td>\n",
       "      <td>76112.777778</td>\n",
       "      <td>17573.465365</td>\n",
       "      <td>52333.0</td>\n",
       "      <td>59925.00</td>\n",
       "      <td>74951.0</td>\n",
       "      <td>93491.00</td>\n",
       "      <td>102019.0</td>\n",
       "    </tr>\n",
       "    <tr>\n",
       "      <th>Houston Police Department-HPD</th>\n",
       "      <td>575.0</td>\n",
       "      <td>60268.495652</td>\n",
       "      <td>16794.495133</td>\n",
       "      <td>24960.0</td>\n",
       "      <td>47650.00</td>\n",
       "      <td>61643.0</td>\n",
       "      <td>66614.00</td>\n",
       "      <td>199596.0</td>\n",
       "    </tr>\n",
       "    <tr>\n",
       "      <th>Human Resources Dept.</th>\n",
       "      <td>24.0</td>\n",
       "      <td>56311.833333</td>\n",
       "      <td>17689.737235</td>\n",
       "      <td>28288.0</td>\n",
       "      <td>46742.50</td>\n",
       "      <td>51207.0</td>\n",
       "      <td>65339.25</td>\n",
       "      <td>110547.0</td>\n",
       "    </tr>\n",
       "    <tr>\n",
       "      <th>Legal Department</th>\n",
       "      <td>17.0</td>\n",
       "      <td>104959.529412</td>\n",
       "      <td>55905.250010</td>\n",
       "      <td>42141.0</td>\n",
       "      <td>62067.00</td>\n",
       "      <td>92505.0</td>\n",
       "      <td>126115.00</td>\n",
       "      <td>275000.0</td>\n",
       "    </tr>\n",
       "    <tr>\n",
       "      <th>Library</th>\n",
       "      <td>30.0</td>\n",
       "      <td>43997.500000</td>\n",
       "      <td>18561.419331</td>\n",
       "      <td>26125.0</td>\n",
       "      <td>31034.00</td>\n",
       "      <td>38563.0</td>\n",
       "      <td>55718.00</td>\n",
       "      <td>107763.0</td>\n",
       "    </tr>\n",
       "    <tr>\n",
       "      <th>Mayor's Office</th>\n",
       "      <td>5.0</td>\n",
       "      <td>86489.600000</td>\n",
       "      <td>32359.877832</td>\n",
       "      <td>44990.0</td>\n",
       "      <td>60925.00</td>\n",
       "      <td>95783.0</td>\n",
       "      <td>110000.00</td>\n",
       "      <td>120750.0</td>\n",
       "    </tr>\n",
       "    <tr>\n",
       "      <th>Municipal Courts Department</th>\n",
       "      <td>26.0</td>\n",
       "      <td>53745.384615</td>\n",
       "      <td>26520.222428</td>\n",
       "      <td>30950.0</td>\n",
       "      <td>34320.00</td>\n",
       "      <td>45562.0</td>\n",
       "      <td>57470.00</td>\n",
       "      <td>121862.0</td>\n",
       "    </tr>\n",
       "    <tr>\n",
       "      <th>Parks &amp; Recreation</th>\n",
       "      <td>55.0</td>\n",
       "      <td>39039.272727</td>\n",
       "      <td>14220.854174</td>\n",
       "      <td>26125.0</td>\n",
       "      <td>29057.50</td>\n",
       "      <td>33634.0</td>\n",
       "      <td>47023.00</td>\n",
       "      <td>85055.0</td>\n",
       "    </tr>\n",
       "    <tr>\n",
       "      <th>Planning &amp; Development</th>\n",
       "      <td>7.0</td>\n",
       "      <td>54879.571429</td>\n",
       "      <td>9724.266379</td>\n",
       "      <td>40539.0</td>\n",
       "      <td>50378.00</td>\n",
       "      <td>51418.0</td>\n",
       "      <td>61341.00</td>\n",
       "      <td>68762.0</td>\n",
       "    </tr>\n",
       "    <tr>\n",
       "      <th>Public Works &amp; Engineering-PWE</th>\n",
       "      <td>341.0</td>\n",
       "      <td>50207.806452</td>\n",
       "      <td>22211.163834</td>\n",
       "      <td>26104.0</td>\n",
       "      <td>34320.00</td>\n",
       "      <td>44096.0</td>\n",
       "      <td>57200.00</td>\n",
       "      <td>178331.0</td>\n",
       "    </tr>\n",
       "    <tr>\n",
       "      <th>Solid Waste Management</th>\n",
       "      <td>43.0</td>\n",
       "      <td>41591.930233</td>\n",
       "      <td>15415.003576</td>\n",
       "      <td>26499.0</td>\n",
       "      <td>34466.00</td>\n",
       "      <td>37045.0</td>\n",
       "      <td>39229.00</td>\n",
       "      <td>110005.0</td>\n",
       "    </tr>\n",
       "  </tbody>\n",
       "</table>\n",
       "</div>"
      ],
      "text/plain": [
       "                                count           mean           std      min  \\\n",
       "DEPARTMENT                                                                    \n",
       "Admn. & Regulatory Affairs       29.0   50890.551724  28918.748108  27581.0   \n",
       "City Controller's Office          5.0   55711.600000   8014.781176  42640.0   \n",
       "City Council                      9.0   59089.222222  19937.971002  35837.0   \n",
       "Convention and Entertainment      1.0   38397.000000           NaN  38397.0   \n",
       "Dept of Neighborhoods (DON)      17.0   47092.882353  15775.399111  26125.0   \n",
       "Finance                          10.0   79650.300000  15968.431601  46963.0   \n",
       "Fleet Management Department      36.0   43994.305556  17182.345048  27539.0   \n",
       "General Services Department      22.0   51295.818182  22496.379805  26125.0   \n",
       "Health & Human Services         106.0   51305.933962  23026.516723  26125.0   \n",
       "Housing and Community Devp.      20.0   61387.700000  15696.609906  39666.0   \n",
       "Houston Airport System (HAS)    106.0   53956.066038  29984.586093  26125.0   \n",
       "Houston Emergency Center (HEC)   23.0   46415.739130  15879.471431  31200.0   \n",
       "Houston Fire Department (HFD)   370.0   59528.867568  16969.644435  28024.0   \n",
       "Houston Information Tech Svcs     9.0   76112.777778  17573.465365  52333.0   \n",
       "Houston Police Department-HPD   575.0   60268.495652  16794.495133  24960.0   \n",
       "Human Resources Dept.            24.0   56311.833333  17689.737235  28288.0   \n",
       "Legal Department                 17.0  104959.529412  55905.250010  42141.0   \n",
       "Library                          30.0   43997.500000  18561.419331  26125.0   \n",
       "Mayor's Office                    5.0   86489.600000  32359.877832  44990.0   \n",
       "Municipal Courts Department      26.0   53745.384615  26520.222428  30950.0   \n",
       "Parks & Recreation               55.0   39039.272727  14220.854174  26125.0   \n",
       "Planning & Development            7.0   54879.571429   9724.266379  40539.0   \n",
       "Public Works & Engineering-PWE  341.0   50207.806452  22211.163834  26104.0   \n",
       "Solid Waste Management           43.0   41591.930233  15415.003576  26499.0   \n",
       "\n",
       "                                     25%      50%        75%       max  \n",
       "DEPARTMENT                                                              \n",
       "Admn. & Regulatory Affairs      33550.00  37710.0   57221.00  140416.0  \n",
       "City Controller's Office        55536.00  57054.0   59077.00   64251.0  \n",
       "City Council                    45000.00  54000.0   62983.00  100000.0  \n",
       "Convention and Entertainment    38397.00  38397.0   38397.00   38397.0  \n",
       "Dept of Neighborhoods (DON)     38210.00  43742.0   52884.00   89221.0  \n",
       "Finance                         73415.00  80542.0   92863.75   96272.0  \n",
       "Fleet Management Department     32364.50  44158.0   49378.25  125884.0  \n",
       "General Services Department     35547.00  42473.5   72417.00   89194.0  \n",
       "Health & Human Services         34335.50  46717.0   59578.00  180416.0  \n",
       "Housing and Community Devp.     52131.50  57284.5   67033.25   98536.0  \n",
       "Houston Airport System (HAS)    33253.75  41953.5   68413.00  186192.0  \n",
       "Houston Emergency Center (HEC)  33987.00  39104.0   56045.50   84456.0  \n",
       "Houston Fire Department (HFD)   51194.00  61921.0   66523.00  210588.0  \n",
       "Houston Information Tech Svcs   59925.00  74951.0   93491.00  102019.0  \n",
       "Houston Police Department-HPD   47650.00  61643.0   66614.00  199596.0  \n",
       "Human Resources Dept.           46742.50  51207.0   65339.25  110547.0  \n",
       "Legal Department                62067.00  92505.0  126115.00  275000.0  \n",
       "Library                         31034.00  38563.0   55718.00  107763.0  \n",
       "Mayor's Office                  60925.00  95783.0  110000.00  120750.0  \n",
       "Municipal Courts Department     34320.00  45562.0   57470.00  121862.0  \n",
       "Parks & Recreation              29057.50  33634.0   47023.00   85055.0  \n",
       "Planning & Development          50378.00  51418.0   61341.00   68762.0  \n",
       "Public Works & Engineering-PWE  34320.00  44096.0   57200.00  178331.0  \n",
       "Solid Waste Management          34466.00  37045.0   39229.00  110005.0  "
      ]
     },
     "execution_count": 47,
     "metadata": {},
     "output_type": "execute_result"
    }
   ],
   "source": [
    "#Let's get the distribution of base salaries across the organization? (mean, mode, median)\n",
    "\n",
    "df.groupby('DEPARTMENT')['BASE_SALARY'].describe()"
   ]
  },
  {
   "cell_type": "markdown",
   "id": "8f4b4dac-b94e-4d04-907a-4dd9e4ef125f",
   "metadata": {},
   "source": [
    " ### differences in salaries between different demographic groups (e.g., race, gender)"
   ]
  },
  {
   "cell_type": "code",
   "execution_count": null,
   "id": "29178676-dd18-4c12-b016-cabd8ceef9e8",
   "metadata": {},
   "outputs": [],
   "source": [
    "df.head(2)"
   ]
  },
  {
   "cell_type": "code",
   "execution_count": null,
   "id": "4ea23b39-205e-4f6b-9f47-10dcb3e7fccf",
   "metadata": {},
   "outputs": [],
   "source": [
    "df.groupby('RACE')['BASE_SALARY'].sum().sort_values()"
   ]
  },
  {
   "cell_type": "code",
   "execution_count": null,
   "id": "7c1ad9fc-5418-4bb2-9644-f31a843b66a6",
   "metadata": {},
   "outputs": [],
   "source": [
    "df.groupby('GENDER')['BASE_SALARY'].sum().sort_values()"
   ]
  },
  {
   "cell_type": "markdown",
   "id": "a2d30b43-a702-49f1-aa65-147b73662069",
   "metadata": {},
   "source": [
    "##  Observation :\n",
    "#There is about times two of the number of male than female in the organization as well as racial bias hence there's a huge difference        between the race and gender salaries"
   ]
  },
  {
   "cell_type": "markdown",
   "id": "70112702-fe1e-42c4-a66b-6535d9567f90",
   "metadata": {},
   "source": [
    "## Average Salary by Department/Position"
   ]
  },
  {
   "cell_type": "code",
   "execution_count": null,
   "id": "f637cc7e-9ed2-45c6-a4f8-addd80c537d7",
   "metadata": {},
   "outputs": [],
   "source": [
    "df.groupby('DEPARTMENT')['BASE_SALARY'].mean().sort_values()"
   ]
  },
  {
   "cell_type": "code",
   "execution_count": null,
   "id": "41863783-c0de-4f30-90fe-8f08a60a836c",
   "metadata": {},
   "outputs": [],
   "source": [
    "df.groupby('BASE_SALARY')['POSITION_TITLE'].sum().sort_values(ascending = False)"
   ]
  },
  {
   "cell_type": "code",
   "execution_count": null,
   "id": "d3bda469-b1ce-4719-ada6-b070c704666a",
   "metadata": {},
   "outputs": [],
   "source": []
  },
  {
   "cell_type": "code",
   "execution_count": null,
   "id": "a59816ac-5f9b-45ba-9da8-75678b5b1169",
   "metadata": {},
   "outputs": [],
   "source": []
  }
 ],
 "metadata": {
  "kernelspec": {
   "display_name": "Python 3 (ipykernel)",
   "language": "python",
   "name": "python3"
  },
  "language_info": {
   "codemirror_mode": {
    "name": "ipython",
    "version": 3
   },
   "file_extension": ".py",
   "mimetype": "text/x-python",
   "name": "python",
   "nbconvert_exporter": "python",
   "pygments_lexer": "ipython3",
   "version": "3.11.7"
  }
 },
 "nbformat": 4,
 "nbformat_minor": 5
}
